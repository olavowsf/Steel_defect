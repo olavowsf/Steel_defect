{
 "cells": [
  {
   "cell_type": "code",
   "execution_count": 1,
   "id": "sixth-motion",
   "metadata": {},
   "outputs": [],
   "source": [
    "import pandas as pd\n",
    "import matplotlib.pyplot as plt\n",
    "import seaborn as sns\n",
    "import plotly as plot"
   ]
  },
  {
   "cell_type": "code",
   "execution_count": 2,
   "id": "demographic-emission",
   "metadata": {},
   "outputs": [],
   "source": [
    "df = pd.read_csv(\"data.csv\")"
   ]
  },
  {
   "cell_type": "code",
   "execution_count": 3,
   "id": "special-cache",
   "metadata": {},
   "outputs": [
    {
     "data": {
      "text/html": [
       "<div>\n",
       "<style scoped>\n",
       "    .dataframe tbody tr th:only-of-type {\n",
       "        vertical-align: middle;\n",
       "    }\n",
       "\n",
       "    .dataframe tbody tr th {\n",
       "        vertical-align: top;\n",
       "    }\n",
       "\n",
       "    .dataframe thead th {\n",
       "        text-align: right;\n",
       "    }\n",
       "</style>\n",
       "<table border=\"1\" class=\"dataframe\">\n",
       "  <thead>\n",
       "    <tr style=\"text-align: right;\">\n",
       "      <th></th>\n",
       "      <th>defect_id</th>\n",
       "      <th>defect_type</th>\n",
       "      <th>material_grade</th>\n",
       "      <th>product_id</th>\n",
       "      <th>date</th>\n",
       "      <th>dataset</th>\n",
       "    </tr>\n",
       "  </thead>\n",
       "  <tbody>\n",
       "    <tr>\n",
       "      <th>0</th>\n",
       "      <td>96</td>\n",
       "      <td>1086</td>\n",
       "      <td>Grade 2</td>\n",
       "      <td>15429</td>\n",
       "      <td>2020-12-01</td>\n",
       "      <td>Training</td>\n",
       "    </tr>\n",
       "    <tr>\n",
       "      <th>1</th>\n",
       "      <td>999</td>\n",
       "      <td>1151</td>\n",
       "      <td>Grade KP</td>\n",
       "      <td>3405</td>\n",
       "      <td>2021-01-04</td>\n",
       "      <td>Training</td>\n",
       "    </tr>\n",
       "    <tr>\n",
       "      <th>2</th>\n",
       "      <td>1405</td>\n",
       "      <td>1098</td>\n",
       "      <td>Grade 2</td>\n",
       "      <td>1571</td>\n",
       "      <td>2020-12-15</td>\n",
       "      <td>Training</td>\n",
       "    </tr>\n",
       "    <tr>\n",
       "      <th>3</th>\n",
       "      <td>870</td>\n",
       "      <td>1098</td>\n",
       "      <td>Grade A</td>\n",
       "      <td>3851</td>\n",
       "      <td>2021-01-23</td>\n",
       "      <td>Training</td>\n",
       "    </tr>\n",
       "    <tr>\n",
       "      <th>4</th>\n",
       "      <td>6229</td>\n",
       "      <td>1045</td>\n",
       "      <td>Grade 2</td>\n",
       "      <td>4676</td>\n",
       "      <td>2020-12-02</td>\n",
       "      <td>Test</td>\n",
       "    </tr>\n",
       "  </tbody>\n",
       "</table>\n",
       "</div>"
      ],
      "text/plain": [
       "   defect_id  defect_type material_grade  product_id        date   dataset\n",
       "0         96         1086        Grade 2       15429  2020-12-01  Training\n",
       "1        999         1151       Grade KP        3405  2021-01-04  Training\n",
       "2       1405         1098        Grade 2        1571  2020-12-15  Training\n",
       "3        870         1098        Grade A        3851  2021-01-23  Training\n",
       "4       6229         1045        Grade 2        4676  2020-12-02      Test"
      ]
     },
     "execution_count": 3,
     "metadata": {},
     "output_type": "execute_result"
    }
   ],
   "source": [
    "df.head()"
   ]
  },
  {
   "cell_type": "code",
   "execution_count": 4,
   "id": "sought-report",
   "metadata": {},
   "outputs": [
    {
     "data": {
      "text/plain": [
       "(6622, 6)"
      ]
     },
     "execution_count": 4,
     "metadata": {},
     "output_type": "execute_result"
    }
   ],
   "source": [
    "df.shape"
   ]
  },
  {
   "cell_type": "code",
   "execution_count": 5,
   "id": "isolated-medicine",
   "metadata": {},
   "outputs": [
    {
     "data": {
      "text/plain": [
       "defect_id           0\n",
       "defect_type         0\n",
       "material_grade    287\n",
       "product_id          0\n",
       "date                0\n",
       "dataset             0\n",
       "dtype: int64"
      ]
     },
     "execution_count": 5,
     "metadata": {},
     "output_type": "execute_result"
    }
   ],
   "source": [
    "df.isna().sum()"
   ]
  },
  {
   "cell_type": "code",
   "execution_count": 6,
   "id": "sexual-multiple",
   "metadata": {},
   "outputs": [
    {
     "data": {
      "text/html": [
       "<div>\n",
       "<style scoped>\n",
       "    .dataframe tbody tr th:only-of-type {\n",
       "        vertical-align: middle;\n",
       "    }\n",
       "\n",
       "    .dataframe tbody tr th {\n",
       "        vertical-align: top;\n",
       "    }\n",
       "\n",
       "    .dataframe thead th {\n",
       "        text-align: right;\n",
       "    }\n",
       "</style>\n",
       "<table border=\"1\" class=\"dataframe\">\n",
       "  <thead>\n",
       "    <tr style=\"text-align: right;\">\n",
       "      <th></th>\n",
       "      <th>defect_id</th>\n",
       "      <th>defect_type</th>\n",
       "      <th>material_grade</th>\n",
       "      <th>product_id</th>\n",
       "      <th>date</th>\n",
       "      <th>dataset</th>\n",
       "    </tr>\n",
       "  </thead>\n",
       "  <tbody>\n",
       "    <tr>\n",
       "      <th>71</th>\n",
       "      <td>5357</td>\n",
       "      <td>1072</td>\n",
       "      <td>NaN</td>\n",
       "      <td>328</td>\n",
       "      <td>2020-12-18</td>\n",
       "      <td>Test</td>\n",
       "    </tr>\n",
       "    <tr>\n",
       "      <th>72</th>\n",
       "      <td>2849</td>\n",
       "      <td>1072</td>\n",
       "      <td>NaN</td>\n",
       "      <td>328</td>\n",
       "      <td>2020-12-18</td>\n",
       "      <td>Training</td>\n",
       "    </tr>\n",
       "    <tr>\n",
       "      <th>78</th>\n",
       "      <td>2863</td>\n",
       "      <td>1072</td>\n",
       "      <td>NaN</td>\n",
       "      <td>328</td>\n",
       "      <td>2020-12-18</td>\n",
       "      <td>Training</td>\n",
       "    </tr>\n",
       "    <tr>\n",
       "      <th>87</th>\n",
       "      <td>2853</td>\n",
       "      <td>1072</td>\n",
       "      <td>NaN</td>\n",
       "      <td>328</td>\n",
       "      <td>2020-12-18</td>\n",
       "      <td>Training</td>\n",
       "    </tr>\n",
       "    <tr>\n",
       "      <th>107</th>\n",
       "      <td>247</td>\n",
       "      <td>1045</td>\n",
       "      <td>NaN</td>\n",
       "      <td>644</td>\n",
       "      <td>2020-12-18</td>\n",
       "      <td>Training</td>\n",
       "    </tr>\n",
       "    <tr>\n",
       "      <th>...</th>\n",
       "      <td>...</td>\n",
       "      <td>...</td>\n",
       "      <td>...</td>\n",
       "      <td>...</td>\n",
       "      <td>...</td>\n",
       "      <td>...</td>\n",
       "    </tr>\n",
       "    <tr>\n",
       "      <th>6505</th>\n",
       "      <td>5356</td>\n",
       "      <td>1072</td>\n",
       "      <td>NaN</td>\n",
       "      <td>328</td>\n",
       "      <td>2020-12-18</td>\n",
       "      <td>Test</td>\n",
       "    </tr>\n",
       "    <tr>\n",
       "      <th>6537</th>\n",
       "      <td>161</td>\n",
       "      <td>1099</td>\n",
       "      <td>NaN</td>\n",
       "      <td>6335</td>\n",
       "      <td>2020-12-17</td>\n",
       "      <td>Training</td>\n",
       "    </tr>\n",
       "    <tr>\n",
       "      <th>6561</th>\n",
       "      <td>2844</td>\n",
       "      <td>1072</td>\n",
       "      <td>NaN</td>\n",
       "      <td>328</td>\n",
       "      <td>2020-12-18</td>\n",
       "      <td>Training</td>\n",
       "    </tr>\n",
       "    <tr>\n",
       "      <th>6563</th>\n",
       "      <td>241</td>\n",
       "      <td>1079</td>\n",
       "      <td>NaN</td>\n",
       "      <td>8011</td>\n",
       "      <td>2020-12-18</td>\n",
       "      <td>Training</td>\n",
       "    </tr>\n",
       "    <tr>\n",
       "      <th>6585</th>\n",
       "      <td>2767</td>\n",
       "      <td>1099</td>\n",
       "      <td>NaN</td>\n",
       "      <td>6335</td>\n",
       "      <td>2020-12-17</td>\n",
       "      <td>Training</td>\n",
       "    </tr>\n",
       "  </tbody>\n",
       "</table>\n",
       "<p>287 rows × 6 columns</p>\n",
       "</div>"
      ],
      "text/plain": [
       "      defect_id  defect_type material_grade  product_id        date   dataset\n",
       "71         5357         1072            NaN         328  2020-12-18      Test\n",
       "72         2849         1072            NaN         328  2020-12-18  Training\n",
       "78         2863         1072            NaN         328  2020-12-18  Training\n",
       "87         2853         1072            NaN         328  2020-12-18  Training\n",
       "107         247         1045            NaN         644  2020-12-18  Training\n",
       "...         ...          ...            ...         ...         ...       ...\n",
       "6505       5356         1072            NaN         328  2020-12-18      Test\n",
       "6537        161         1099            NaN        6335  2020-12-17  Training\n",
       "6561       2844         1072            NaN         328  2020-12-18  Training\n",
       "6563        241         1079            NaN        8011  2020-12-18  Training\n",
       "6585       2767         1099            NaN        6335  2020-12-17  Training\n",
       "\n",
       "[287 rows x 6 columns]"
      ]
     },
     "execution_count": 6,
     "metadata": {},
     "output_type": "execute_result"
    }
   ],
   "source": [
    "df[df[\"material_grade\"].isna()]"
   ]
  },
  {
   "cell_type": "code",
   "execution_count": 12,
   "id": "sought-interview",
   "metadata": {},
   "outputs": [
    {
     "data": {
      "text/plain": [
       "defect_id         0\n",
       "defect_type       0\n",
       "material_grade    0\n",
       "product_id        0\n",
       "date              0\n",
       "dataset           0\n",
       "dtype: int64"
      ]
     },
     "execution_count": 12,
     "metadata": {},
     "output_type": "execute_result"
    }
   ],
   "source": [
    "df[\"material_grade\"] = df[\"material_grade\"].fillna(\"Unknown\")\n",
    "df.isna().sum()"
   ]
  },
  {
   "cell_type": "code",
   "execution_count": 13,
   "id": "banner-cornwall",
   "metadata": {},
   "outputs": [
    {
     "data": {
      "text/plain": [
       "defect_id         6622\n",
       "defect_type         21\n",
       "material_grade      15\n",
       "product_id         583\n",
       "date                54\n",
       "dataset              2\n",
       "dtype: int64"
      ]
     },
     "execution_count": 13,
     "metadata": {},
     "output_type": "execute_result"
    }
   ],
   "source": [
    "df.nunique()"
   ]
  }
 ],
 "metadata": {
  "kernelspec": {
   "display_name": "Python 3",
   "language": "python",
   "name": "python3"
  },
  "language_info": {
   "codemirror_mode": {
    "name": "ipython",
    "version": 3
   },
   "file_extension": ".py",
   "mimetype": "text/x-python",
   "name": "python",
   "nbconvert_exporter": "python",
   "pygments_lexer": "ipython3",
   "version": "3.8.6"
  },
  "toc": {
   "base_numbering": 1,
   "nav_menu": {},
   "number_sections": true,
   "sideBar": true,
   "skip_h1_title": false,
   "title_cell": "Table of Contents",
   "title_sidebar": "Contents",
   "toc_cell": false,
   "toc_position": {},
   "toc_section_display": true,
   "toc_window_display": false
  }
 },
 "nbformat": 4,
 "nbformat_minor": 5
}
